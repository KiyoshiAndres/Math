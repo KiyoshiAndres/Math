{
 "cells": [
  {
   "cell_type": "markdown",
   "id": "2c7354b7-c6dd-4dda-83fe-62a34f405056",
   "metadata": {
    "tags": []
   },
   "source": [
    "# Galois Theory and Data Symmetry"
   ]
  },
  {
   "cell_type": "markdown",
   "id": "54a4daae-c91e-4d10-bc8d-97c56e211ec3",
   "metadata": {},
   "source": [
    "The purpose of this document is to create a dataset of polynomials and their Galois groups. Perhaps this is too ambitious, and I might replace the Galois group with just the size of the group. The Galois group is the group of symmetries of the roots of the polynomials (assuming that the splitting field is Galois of course). By definition $\\mathbb{C}$ is algebraically closed over the rational numbers, so any polynomial with rational coefficients will split in $\\mathbb{C}$. Thus we let our polynomial ring be over the complex numbers, while also checking that the polynomial is irreducible over the rationals."
   ]
  },
  {
   "cell_type": "code",
   "execution_count": 155,
   "id": "2caf36f0-2849-49af-b762-6657d12ad2fa",
   "metadata": {
    "tags": []
   },
   "outputs": [],
   "source": [
    "from matplotlib import pyplot as plt"
   ]
  },
  {
   "cell_type": "code",
   "execution_count": 156,
   "id": "a2e1f4ac-eb8d-44ce-8e90-79ee90149828",
   "metadata": {
    "tags": []
   },
   "outputs": [],
   "source": [
    "z = PolynomialRing(ComplexField(), 'z').gen()\n",
    "x = PolynomialRing(RationalField(), 'x').gen()"
   ]
  },
  {
   "cell_type": "code",
   "execution_count": 70,
   "id": "82f7f024-a27f-4782-85f0-c5df6045471a",
   "metadata": {
    "tags": []
   },
   "outputs": [],
   "source": [
    "q = z^4 + z + 1\n",
    "p = x^4 + x + 1"
   ]
  },
  {
   "cell_type": "markdown",
   "id": "45f4a0b9-46ac-4392-bfe5-2799aedaf019",
   "metadata": {},
   "source": [
    "The second entry on each tuple of the roots represents the multiplicity of the root. Given that we are working over the rational numbers, any irreducible polynomial will have distinct roots, and thus we don't have to worry about multiplicity. I.e. the multiplicity will always be one."
   ]
  },
  {
   "cell_type": "code",
   "execution_count": 71,
   "id": "c99c15b4-d6b9-4af4-a213-a72ec8f97e6d",
   "metadata": {
    "tags": []
   },
   "outputs": [
    {
     "name": "stdout",
     "output_type": "stream",
     "text": [
      "True\n",
      "[(-0.727136084491197 - 0.430014288329716*I, 1), (-0.727136084491197 + 0.430014288329716*I, 1), (0.727136084491197 - 0.934099289460529*I, 1), (0.727136084491197 + 0.934099289460529*I, 1)]\n"
     ]
    }
   ],
   "source": [
    "print(p.is_irreducible())\n",
    "print(q.roots())"
   ]
  },
  {
   "cell_type": "markdown",
   "id": "2df6f5a9-c211-435a-897c-20b98440bc24",
   "metadata": {},
   "source": [
    "To use numpy and matplotlib later on, we need to process the data a little bit."
   ]
  },
  {
   "cell_type": "code",
   "execution_count": 72,
   "id": "b2f2999b-5b9b-4aa9-9153-3eade21a7e29",
   "metadata": {
    "tags": []
   },
   "outputs": [],
   "source": [
    "def data_inputs(polynomial):\n",
    "    vectorized_roots = []\n",
    "    norm_of_roots = []\n",
    "    for root in polynomial.roots():\n",
    "        vectorized_roots.append([root[0].real(), root[0].imag()])\n",
    "        norm_of_roots.append(root[0].abs())\n",
    "    return (vectorized_roots)"
   ]
  },
  {
   "cell_type": "code",
   "execution_count": 73,
   "id": "0f2349d2-6955-41a4-8408-4cb3ec0b749f",
   "metadata": {
    "tags": []
   },
   "outputs": [
    {
     "name": "stdout",
     "output_type": "stream",
     "text": [
      "[[-0.727136084491197, -0.430014288329716], [-0.727136084491197, 0.430014288329716], [0.727136084491197, -0.934099289460529], [0.727136084491197, 0.934099289460529]]\n"
     ]
    }
   ],
   "source": [
    "print(data_inputs(q))"
   ]
  },
  {
   "cell_type": "markdown",
   "id": "43abdc4a-b99b-4da5-9344-fc5a633bb3f1",
   "metadata": {},
   "source": [
    "Pyplot settings:"
   ]
  },
  {
   "cell_type": "code",
   "execution_count": 74,
   "id": "c24bad97-937d-4b3e-80ae-ad264525ac79",
   "metadata": {
    "tags": []
   },
   "outputs": [],
   "source": [
    "def plot_roots(list_of_roots):\n",
    "    plt.rcParams[\"figure.figsize\"] = [7.00, 3.50]\n",
    "    plt.rcParams[\"figure.autolayout\"] = True\n",
    "    plt.xlim(-5, 5)\n",
    "    plt.ylim(-5, 5)\n",
    "    plt.grid()\n",
    "    x_vals = [x[0] for x in list_of_roots]\n",
    "    y_vals = [x[1] for x in list_of_roots]\n",
    "    plt.scatter(x_vals, y_vals)\n",
    "    plt.show()"
   ]
  },
  {
   "cell_type": "code",
   "execution_count": 75,
   "id": "7fc775f1-a0d5-4261-9bd6-49ff1c206acd",
   "metadata": {
    "tags": []
   },
   "outputs": [
    {
     "data": {
      "image/png": "[encoded data removed]",
      "text/plain": [
       "<Figure size 504x252 with 1 Axes>"
      ]
     },
     "metadata": {
      "needs_background": "light"
     },
     "output_type": "display_data"
    }
   ],
   "source": [
    "plot_roots(data_inputs(q))"
   ]
  },
  {
   "cell_type": "markdown",
   "id": "25cdf504-629a-4c45-9c66-d61b487904a0",
   "metadata": {},
   "source": [
    "Silly application: Consider a set of points in the real number plane as a set of points in the complex plane. Find an irreducible polynomial whose roots line up with the points.\n",
    "Maybe not Silly application: Train neural network to find symmetries using galois theory.\n",
    "Not silly application: Compute Galois groups with Machine learning."
   ]
  },
  {
   "cell_type": "markdown",
   "id": "a1f7d42e-53ab-4d70-a2ed-22ccd18fa3a8",
   "metadata": {},
   "source": [
    "Now we determine the Galois structure:"
   ]
  },
  {
   "cell_type": "code",
   "execution_count": 79,
   "id": "3e900f6f-76df-4a5c-bab0-7f4d5daeb0ed",
   "metadata": {
    "tags": []
   },
   "outputs": [],
   "source": [
    "def galois_group(polynomial):\n",
    "    K = NumberField(polynomial, 'x')\n",
    "    return K.galois_group()"
   ]
  },
  {
   "cell_type": "code",
   "execution_count": 81,
   "id": "84d21255-a783-4535-b272-496d6003029c",
   "metadata": {
    "tags": []
   },
   "outputs": [
    {
     "data": {
      "text/plain": [
       "Galois group 4T5 (S4) with order 24 of x^4 + x + 1"
      ]
     },
     "execution_count": 81,
     "metadata": {},
     "output_type": "execute_result"
    }
   ],
   "source": [
    "galois_group(p)"
   ]
  },
  {
   "cell_type": "code",
   "execution_count": 96,
   "id": "54051ef4-7c59-4ef5-be91-3fdc93459d46",
   "metadata": {
    "tags": []
   },
   "outputs": [
    {
     "data": {
      "image/png": "[encoded data removed]",
      "text/plain": [
       "<Figure size 504x252 with 1 Axes>"
      ]
     },
     "metadata": {
      "needs_background": "light"
     },
     "output_type": "display_data"
    }
   ],
   "source": [
    "plot_roots(data_inputs(z^4 + 1*z^2 + 2))"
   ]
  },
  {
   "cell_type": "code",
   "execution_count": 95,
   "id": "ca2207a8-b81f-4691-ab99-f5631e180f51",
   "metadata": {
    "tags": []
   },
   "outputs": [
    {
     "data": {
      "text/plain": [
       "Galois group 4T3 (D(4)) with order 8 of x^4 + x^2 + 2"
      ]
     },
     "execution_count": 95,
     "metadata": {},
     "output_type": "execute_result"
    }
   ],
   "source": [
    "galois_group(x^4+ 1*x^2 +2)"
   ]
  },
  {
   "cell_type": "markdown",
   "id": "92a422d6-fa3e-4591-b887-f34b40a73cc5",
   "metadata": {},
   "source": [
    "The more regular a shape is, the closer it is to having Galois group 1. On the other hand, the more irregular a shape is, the Galois group is bigger."
   ]
  },
  {
   "cell_type": "markdown",
   "id": "e91fbe2c-746f-4a0c-b839-8e1cce28af46",
   "metadata": {},
   "source": [
    "To produce a large number of irreducible polynomials in a simple manner, we will use Eisenstein's criterion for irreducibility. It will also be more efficient to define polynomials through a list of coefficients."
   ]
  },
  {
   "cell_type": "code",
   "execution_count": 97,
   "id": "00b578a9-3dc0-42fd-89e0-4a2887f8e2f0",
   "metadata": {
    "tags": []
   },
   "outputs": [],
   "source": [
    "def list_to_polynomial(coefficients_list, var):\n",
    "    polynomial = 0\n",
    "    deg = len(coefficients_list) - 1\n",
    "    for coefficient in coefficients_list:\n",
    "        polynomial += coefficient * var^deg\n",
    "        deg -= 1\n",
    "    return polynomial"
   ]
  },
  {
   "cell_type": "code",
   "execution_count": 98,
   "id": "fdc5d6ce-45dd-4a6c-aa71-a76e7f719efa",
   "metadata": {
    "tags": []
   },
   "outputs": [
    {
     "data": {
      "text/plain": [
       "x^4 + 2*x^3 + 2*x^2 + 2"
      ]
     },
     "execution_count": 98,
     "metadata": {},
     "output_type": "execute_result"
    }
   ],
   "source": [
    "list_to_polynomial([1,2,2,0,2], x)"
   ]
  },
  {
   "cell_type": "markdown",
   "id": "c1fd647e-af9c-4347-a05d-f6a33b55dbb1",
   "metadata": {},
   "source": [
    "Exploration towards profinite groups."
   ]
  },
  {
   "cell_type": "markdown",
   "id": "84ce6dd9-60ef-4208-8dd5-c9e555b19f69",
   "metadata": {},
   "source": [
    "Naturally, if we want to consider continuous shapes, we'd need to take limits of polynomials. For example the circle can be obtained as the limit $\\lim x^n-1$ as $n\\to\\infty$. Our field extension is then the direct limit of fields adjoining primitive $n$th roots of unity. So the Galois group of such an extension is the inverse limit of the Galois groups of each sub-extension. In particular, the Galois group of the circle is trivial as should be."
   ]
  },
  {
   "cell_type": "markdown",
   "id": "af974c3a-41ad-4445-adc0-f4e1d3a0a39c",
   "metadata": {},
   "source": [
    "In the meantime, let's create a bunch of Eisenstein polynomials."
   ]
  },
  {
   "cell_type": "code",
   "execution_count": 150,
   "id": "e36bbb62-3c69-416a-a459-c168fc399c2c",
   "metadata": {
    "tags": []
   },
   "outputs": [],
   "source": [
    "def eisenstein_generator(prime, max_deg):\n",
    "    base_list = [[1,prime], [1,0]]\n",
    "    output_list = [[1,prime], [1,0]]\n",
    "    for number in range(max_deg - 2):\n",
    "        for polynomial in base_list.copy():\n",
    "            base_list.remove(polynomial)\n",
    "            base_list.append(polynomial + [prime])\n",
    "            base_list.append(polynomial + [0])\n",
    "            output_list.append(polynomial + [prime])\n",
    "            output_list.append(polynomial + [0])\n",
    "    for polynomial in output_list:\n",
    "        polynomial.append(prime)\n",
    "    return output_list"
   ]
  },
  {
   "cell_type": "code",
   "execution_count": 151,
   "id": "174704bc-eb23-4bc7-9433-a25d139c9396",
   "metadata": {
    "tags": []
   },
   "outputs": [
    {
     "data": {
      "text/plain": [
       "[[1, 3, 3],\n",
       " [1, 0, 3],\n",
       " [1, 3, 3, 3],\n",
       " [1, 3, 0, 3],\n",
       " [1, 0, 3, 3],\n",
       " [1, 0, 0, 3],\n",
       " [1, 3, 3, 3, 3],\n",
       " [1, 3, 3, 0, 3],\n",
       " [1, 3, 0, 3, 3],\n",
       " [1, 3, 0, 0, 3],\n",
       " [1, 0, 3, 3, 3],\n",
       " [1, 0, 3, 0, 3],\n",
       " [1, 0, 0, 3, 3],\n",
       " [1, 0, 0, 0, 3],\n",
       " [1, 3, 3, 3, 3, 3],\n",
       " [1, 3, 3, 3, 0, 3],\n",
       " [1, 3, 3, 0, 3, 3],\n",
       " [1, 3, 3, 0, 0, 3],\n",
       " [1, 3, 0, 3, 3, 3],\n",
       " [1, 3, 0, 3, 0, 3],\n",
       " [1, 3, 0, 0, 3, 3],\n",
       " [1, 3, 0, 0, 0, 3],\n",
       " [1, 0, 3, 3, 3, 3],\n",
       " [1, 0, 3, 3, 0, 3],\n",
       " [1, 0, 3, 0, 3, 3],\n",
       " [1, 0, 3, 0, 0, 3],\n",
       " [1, 0, 0, 3, 3, 3],\n",
       " [1, 0, 0, 3, 0, 3],\n",
       " [1, 0, 0, 0, 3, 3],\n",
       " [1, 0, 0, 0, 0, 3]]"
      ]
     },
     "execution_count": 151,
     "metadata": {},
     "output_type": "execute_result"
    }
   ],
   "source": [
    "eisenstein_generator(3,5)"
   ]
  },
  {
   "cell_type": "code",
   "execution_count": null,
   "id": "64a43b33-4ea3-4d2e-b455-ac7eab98ad14",
   "metadata": {},
   "outputs": [],
   "source": []
  },
  {
   "cell_type": "code",
   "execution_count": null,
   "id": "755784b2-99de-45c5-b25a-91a7afdd8f0f",
   "metadata": {},
   "outputs": [],
   "source": []
  }
 ],
 "metadata": {
  "kernelspec": {
   "display_name": "SageMath 9.7",
   "language": "sage",
   "name": "sagemath-9.7"
  },
  "language_info": {
   "codemirror_mode": {
    "name": "ipython",
    "version": 3
   },
   "file_extension": ".py",
   "mimetype": "text/x-python",
   "name": "python",
   "nbconvert_exporter": "python",
   "pygments_lexer": "ipython3",
   "version": "3.10.5"
  }
 },
 "nbformat": 4,
 "nbformat_minor": 5
}
